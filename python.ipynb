{
  "nbformat": 4,
  "nbformat_minor": 0,
  "metadata": {
    "colab": {
      "provenance": [],
      "authorship_tag": "ABX9TyPMGOCDyMG3bDOFnFQ1vqo9",
      "include_colab_link": true
    },
    "kernelspec": {
      "name": "python3",
      "display_name": "Python 3"
    },
    "language_info": {
      "name": "python"
    }
  },
  "cells": [
    {
      "cell_type": "markdown",
      "metadata": {
        "id": "view-in-github",
        "colab_type": "text"
      },
      "source": [
        "<a href=\"https://colab.research.google.com/github/Chinu2522/2101206032/blob/main/python.ipynb\" target=\"_parent\"><img src=\"https://colab.research.google.com/assets/colab-badge.svg\" alt=\"Open In Colab\"/></a>"
      ]
    },
    {
      "cell_type": "code",
      "source": [
        "import random\n",
        "import math\n",
        "for i in range(5):\n",
        "    print(random.randint(1,25))\n",
        "print(math.pi)"
      ],
      "metadata": {
        "colab": {
          "base_uri": "https://localhost:8080/"
        },
        "id": "y9PKoxsum_Cw",
        "outputId": "7ab6492c-3851-4714-8e55-0c8a62085c28"
      },
      "execution_count": 1,
      "outputs": [
        {
          "output_type": "stream",
          "name": "stdout",
          "text": [
            "16\n",
            "14\n",
            "1\n",
            "16\n",
            "3\n",
            "3.141592653589793\n"
          ]
        }
      ]
    },
    {
      "cell_type": "code",
      "source": [
        "from math import *\n",
        "print (pi)\n",
        "print(pow(2,5))"
      ],
      "metadata": {
        "colab": {
          "base_uri": "https://localhost:8080/"
        },
        "id": "NPcAnGWKnV2f",
        "outputId": "0b21ae4e-12ef-4f3e-9a1f-c4e0f595dbe6"
      },
      "execution_count": 3,
      "outputs": [
        {
          "output_type": "stream",
          "name": "stdout",
          "text": [
            "3.141592653589793\n",
            "32.0\n"
          ]
        }
      ]
    },
    {
      "cell_type": "code",
      "source": [
        "a=0\n",
        "while a<4:\n",
        "    a=a+1\n",
        "    if a==3:\n",
        "       break\n",
        "    print(a)"
      ],
      "metadata": {
        "colab": {
          "base_uri": "https://localhost:8080/"
        },
        "id": "pUN2DULonhjj",
        "outputId": "bb339e49-9b9c-4cd1-fed2-658878329d69"
      },
      "execution_count": 4,
      "outputs": [
        {
          "output_type": "stream",
          "name": "stdout",
          "text": [
            "1\n",
            "2\n"
          ]
        }
      ]
    },
    {
      "cell_type": "code",
      "source": [
        "def calculator():\n",
        "    while True:\n",
        "        print(\"Enter your choice from ['+','-','*','/','quit']\")\n",
        "        user_input = input(\": \")\n",
        "        if user_input == \"quit\":\n",
        "            break\n",
        "        elif user_input in [\"+\", \"-\", \"*\", \"/\"]:\n",
        "            num1 = float(input(\"Enter a number: \"))\n",
        "            num2 = float(input(\"Enter another number: \"))\n",
        "            if user_input == \"+\":\n",
        "                result = num1 + num2\n",
        "                print(num1, \"+\", num2, \"=\", result)\n",
        "\n",
        "            elif user_input == \"-\":\n",
        "                result = num1 - num2\n",
        "                print(num1, \"-\", num2, \"=\", result)\n",
        "\n",
        "            elif user_input == \"*\":\n",
        "                result = num1 * num2\n",
        "                print(num1, \"*\", num2, \"=\", result)\n",
        "\n",
        "            elif user_input == \"/\":\n",
        "                result = num1 / num2\n",
        "                print(num1, \"/\", num2, \"=\", result)\n",
        "        else:\n",
        "            print(\"Invalid Input\")\n",
        "calculator()"
      ],
      "metadata": {
        "colab": {
          "base_uri": "https://localhost:8080/"
        },
        "id": "fSJSIXX5noxQ",
        "outputId": "59185689-8b5e-4449-bc49-d71b87de7e20"
      },
      "execution_count": 5,
      "outputs": [
        {
          "name": "stdout",
          "output_type": "stream",
          "text": [
            "Enter your choice from ['+','-','*','/','quit']\n",
            ": +\n",
            "Enter a number: 10\n",
            "Enter another number: 15\n",
            "10.0 + 15.0 = 25.0\n",
            "Enter your choice from ['+','-','*','/','quit']\n",
            ": quit\n"
          ]
        }
      ]
    },
    {
      "cell_type": "code",
      "source": [
        "class myclass:\n",
        "    \"This is my second class\"\n",
        "    a=10\n",
        "    def func_1():\n",
        "        print(\"Hello\")\n",
        "print(myclass.__doc__)\n",
        "print(myclass.a)\n",
        "myclass.func_1()"
      ],
      "metadata": {
        "colab": {
          "base_uri": "https://localhost:8080/"
        },
        "id": "H1agVYP6n5g3",
        "outputId": "7f9a6a3f-61eb-42f6-f1f1-a83d94f8bff7"
      },
      "execution_count": 6,
      "outputs": [
        {
          "output_type": "stream",
          "name": "stdout",
          "text": [
            "This is my second class\n",
            "10\n",
            "Hello\n"
          ]
        }
      ]
    },
    {
      "cell_type": "code",
      "source": [
        "class rev:\n",
        "    def func_1():\n",
        "        rev=0\n",
        "        num=int(input(\"Enter the number: \"))\n",
        "        while(num!=0):\n",
        "            reminder=num%10\n",
        "            rev=rev*10+reminder\n",
        "            num=num//10\n",
        "        print(\"The reverse is= \",rev)\n",
        "rev.func_1()"
      ],
      "metadata": {
        "colab": {
          "base_uri": "https://localhost:8080/"
        },
        "id": "SXR0zeuLoDUe",
        "outputId": "e56c0862-ce0e-43ad-cf5a-0d9f7fd6bbd3"
      },
      "execution_count": 7,
      "outputs": [
        {
          "output_type": "stream",
          "name": "stdout",
          "text": [
            "Enter the number: 123\n",
            "The reverse is=  321\n"
          ]
        }
      ]
    },
    {
      "cell_type": "code",
      "source": [
        "class myclass:\n",
        "    \"This is my second class\"\n",
        "    a=10\n",
        "    def func_1(self):\n",
        "        print(\"Hello\")\n",
        "obj= myclass()\n",
        "print(myclass.__doc__)\n",
        "print(myclass.a)\n",
        "myclass.func_1()"
      ],
      "metadata": {
        "colab": {
          "base_uri": "https://localhost:8080/",
          "height": 235
        },
        "id": "p6H0J2IFoHH6",
        "outputId": "c96cd098-d69f-46bf-e02b-22a8efb4376b"
      },
      "execution_count": 8,
      "outputs": [
        {
          "output_type": "stream",
          "name": "stdout",
          "text": [
            "This is my second class\n",
            "10\n"
          ]
        },
        {
          "output_type": "error",
          "ename": "TypeError",
          "evalue": "ignored",
          "traceback": [
            "\u001b[0;31m---------------------------------------------------------------------------\u001b[0m",
            "\u001b[0;31mTypeError\u001b[0m                                 Traceback (most recent call last)",
            "\u001b[0;32m<ipython-input-8-e85adb169e83>\u001b[0m in \u001b[0;36m<cell line: 9>\u001b[0;34m()\u001b[0m\n\u001b[1;32m      7\u001b[0m \u001b[0mprint\u001b[0m\u001b[0;34m(\u001b[0m\u001b[0mmyclass\u001b[0m\u001b[0;34m.\u001b[0m\u001b[0m__doc__\u001b[0m\u001b[0;34m)\u001b[0m\u001b[0;34m\u001b[0m\u001b[0;34m\u001b[0m\u001b[0m\n\u001b[1;32m      8\u001b[0m \u001b[0mprint\u001b[0m\u001b[0;34m(\u001b[0m\u001b[0mmyclass\u001b[0m\u001b[0;34m.\u001b[0m\u001b[0ma\u001b[0m\u001b[0;34m)\u001b[0m\u001b[0;34m\u001b[0m\u001b[0;34m\u001b[0m\u001b[0m\n\u001b[0;32m----> 9\u001b[0;31m \u001b[0mmyclass\u001b[0m\u001b[0;34m.\u001b[0m\u001b[0mfunc_1\u001b[0m\u001b[0;34m(\u001b[0m\u001b[0;34m)\u001b[0m\u001b[0;34m\u001b[0m\u001b[0;34m\u001b[0m\u001b[0m\n\u001b[0m",
            "\u001b[0;31mTypeError\u001b[0m: myclass.func_1() missing 1 required positional argument: 'self'"
          ]
        }
      ]
    },
    {
      "cell_type": "code",
      "source": [
        "class armstrong:\n",
        "    def num(self):\n",
        "        n=int(input(\"Enter a number: \"))\n",
        "        sum=0\n",
        "        temp=n\n",
        "        while(temp!=0):\n",
        "            digit=temp%10\n",
        "            sum=sum+digit**3\n",
        "            temp=temp//10\n",
        "        if(n==sum):\n",
        "            print(\"NO IS ARMSTRONG\")\n",
        "        else:\n",
        "            print(\"NO IS NOT AN ARMSTRONG\")\n",
        "obj=armstrong()\n",
        "obj.num()"
      ],
      "metadata": {
        "colab": {
          "base_uri": "https://localhost:8080/"
        },
        "id": "bMCCh_s9oOCV",
        "outputId": "14f75f3a-8477-4887-d080-fdf4350ce4d2"
      },
      "execution_count": 9,
      "outputs": [
        {
          "output_type": "stream",
          "name": "stdout",
          "text": [
            "Enter a number: 153\n",
            "NO IS ARMSTRONG\n"
          ]
        }
      ]
    },
    {
      "cell_type": "code",
      "source": [
        "class myclass:\n",
        "    def __init__(self,roll,name):\n",
        "        self.name=name\n",
        "        self.roll=roll\n",
        "        print(self.name,self.roll)\n",
        "obj=myclass(12,\"chinu\")"
      ],
      "metadata": {
        "colab": {
          "base_uri": "https://localhost:8080/"
        },
        "id": "3KNAA_qooXiy",
        "outputId": "7baa43a3-158e-4b11-c1f4-826f252f0a8a"
      },
      "execution_count": 10,
      "outputs": [
        {
          "output_type": "stream",
          "name": "stdout",
          "text": [
            "chinu 12\n"
          ]
        }
      ]
    },
    {
      "cell_type": "code",
      "source": [
        "class number:\n",
        "    def __init__(self,num):\n",
        "        self.num=num\n",
        "        sum=0\n",
        "        for i in range(num+1):\n",
        "            sum=sum+i\n",
        "        print(\"The sum of number until\",num,\"is= \",sum)\n",
        "num=int(input(\"Enter the number limit: \"))\n",
        "obj=number(num)"
      ],
      "metadata": {
        "colab": {
          "base_uri": "https://localhost:8080/"
        },
        "id": "TlV_kFxoodfF",
        "outputId": "e27b0896-9287-4f7b-a657-731914e2e495"
      },
      "execution_count": 11,
      "outputs": [
        {
          "output_type": "stream",
          "name": "stdout",
          "text": [
            "Enter the number limit: 10\n",
            "The sum of number until 10 is=  55\n"
          ]
        }
      ]
    },
    {
      "cell_type": "code",
      "source": [
        "class student:\n",
        "    def CalculatePower(self,no,po):\n",
        "        return no**po\n",
        "obj=student()\n",
        "print(obj.CalculatePower(3,2))"
      ],
      "metadata": {
        "colab": {
          "base_uri": "https://localhost:8080/"
        },
        "id": "jIOtFiu8ooXa",
        "outputId": "8b0a7399-ad54-42d0-8026-21a69cd0676d"
      },
      "execution_count": 12,
      "outputs": [
        {
          "output_type": "stream",
          "name": "stdout",
          "text": [
            "9\n"
          ]
        }
      ]
    },
    {
      "cell_type": "code",
      "source": [
        "from math import sqrt\n",
        "class perfectSquare:\n",
        "    def perfects(self,n):\n",
        "        r=int(sqrt(n))\n",
        "        if(r*r==n):\n",
        "            return \"perfect square\"\n",
        "        else:\n",
        "            return \"not perfect square\"\n",
        "obj=perfectSquare()\n",
        "n=int(input(\"Number: \"))\n",
        "print(obj.perfects(n))"
      ],
      "metadata": {
        "colab": {
          "base_uri": "https://localhost:8080/"
        },
        "id": "Aucg3PM9osh1",
        "outputId": "50c5dca5-1333-4ec4-de5d-7e12d0d34e66"
      },
      "execution_count": 13,
      "outputs": [
        {
          "output_type": "stream",
          "name": "stdout",
          "text": [
            "Number: 16\n",
            "perfect square\n"
          ]
        }
      ]
    },
    {
      "cell_type": "code",
      "source": [
        "class A:\n",
        "    def dA(self):\n",
        "        print(\"parent class\")\n",
        "class B(A):\n",
        "    def dB(self):\n",
        "        print(\"child class\")\n",
        "obj=B()\n",
        "obj.dA()\n",
        "obj.dB()"
      ],
      "metadata": {
        "colab": {
          "base_uri": "https://localhost:8080/"
        },
        "id": "QNZXrwPto2h0",
        "outputId": "6522e2fd-cf76-448d-be61-69c61cb173ff"
      },
      "execution_count": 14,
      "outputs": [
        {
          "output_type": "stream",
          "name": "stdout",
          "text": [
            "parent class\n",
            "child class\n"
          ]
        }
      ]
    },
    {
      "cell_type": "code",
      "source": [
        "#parent class contain sum of all even factorial child class contain odd factorial\n",
        "class A:\n",
        "    def even(self,n):\n",
        "        s=0\n",
        "        fact=1\n",
        "        print(\"Sum of even factorial number:\")\n",
        "        for i in range(1,n+1):\n",
        "            fact=fact*i\n",
        "            if(i%2==0):\n",
        "                s=s+fact\n",
        "                print(s,end=\" \")\n",
        "        print(\"\")\n",
        "class B(A):\n",
        "    def odd(self,n):\n",
        "        s=0\n",
        "        fact=1\n",
        "        print(\"Sum of odd factorial number:\")\n",
        "        for i in range(1,n+1):\n",
        "            fact=fact*i\n",
        "            if(i%2!=0):\n",
        "                s=s+fact\n",
        "                print(s,end=\" \")\n",
        "obj=B()\n",
        "n=int(input(\"Enter the limit of series: \"))\n",
        "obj.even(n)\n",
        "obj.odd(n)"
      ],
      "metadata": {
        "colab": {
          "base_uri": "https://localhost:8080/"
        },
        "id": "GZhgVpuEo5is",
        "outputId": "bfa66ddb-3831-4932-9ee8-a235b3f4c3c7"
      },
      "execution_count": 15,
      "outputs": [
        {
          "output_type": "stream",
          "name": "stdout",
          "text": [
            "Enter the limit of series: 20\n",
            "Sum of even factorial number:\n",
            "2 26 746 41066 3669866 482671466 87660962666 21010450850666 6423384156578666 2439325392333218666 \n",
            "Sum of odd factorial number:\n",
            "1 7 127 5167 368047 40284847 6267305647 1313941673647 357001369769647 122002101778601647 "
          ]
        }
      ]
    },
    {
      "cell_type": "code",
      "source": [
        "class A:\n",
        "    def dA(self):\n",
        "        print(\"Grand parent class\")\n",
        "class B(A):\n",
        "    def dB(self):\n",
        "        print(\"parent class\")\n",
        "class C(B):\n",
        "    def dC(self):\n",
        "        print(\"child class\")\n",
        "obj=C()\n",
        "obj.dA()\n",
        "obj.dB()\n",
        "obj.dC()"
      ],
      "metadata": {
        "colab": {
          "base_uri": "https://localhost:8080/"
        },
        "id": "UkkNvehopExU",
        "outputId": "788e3aae-8cc2-4323-9d7a-2703b44efe17"
      },
      "execution_count": 16,
      "outputs": [
        {
          "output_type": "stream",
          "name": "stdout",
          "text": [
            "Grand parent class\n",
            "parent class\n",
            "child class\n"
          ]
        }
      ]
    },
    {
      "cell_type": "code",
      "source": [
        "class A:\n",
        "    def dA(self):\n",
        "        print(\"parent class A\")\n",
        "class B:\n",
        "    def dB(self):\n",
        "        print(\"parent class B\")\n",
        "class C(A,B):\n",
        "    def dC(self):\n",
        "        print(\"child class\")\n",
        "obj=C()\n",
        "obj.dA()\n",
        "obj.dB()\n",
        "obj.dC()"
      ],
      "metadata": {
        "colab": {
          "base_uri": "https://localhost:8080/"
        },
        "id": "My9_Hz1VpMym",
        "outputId": "4dce4243-7124-408f-bb71-9d17fef29127"
      },
      "execution_count": 17,
      "outputs": [
        {
          "output_type": "stream",
          "name": "stdout",
          "text": [
            "parent class A\n",
            "parent class B\n",
            "child class\n"
          ]
        }
      ]
    },
    {
      "cell_type": "code",
      "source": [
        "class A:\n",
        "    def dA(self):\n",
        "        print(\"parent class A\")\n",
        "class B(A):\n",
        "    def dB(self):\n",
        "        print(\"child class B\")\n",
        "class C(A):\n",
        "    def dC(self):\n",
        "        print(\"child class c\")\n",
        "obj=B()\n",
        "obj.dA()\n",
        "obj.dB()\n",
        "obj=C()\n",
        "obj.dA()\n",
        "obj.dC()"
      ],
      "metadata": {
        "colab": {
          "base_uri": "https://localhost:8080/"
        },
        "id": "Ya3clLAPpTJY",
        "outputId": "0ef0aca9-3fc2-40c4-dd3d-d2a52bfce18f"
      },
      "execution_count": 18,
      "outputs": [
        {
          "output_type": "stream",
          "name": "stdout",
          "text": [
            "parent class A\n",
            "child class B\n",
            "parent class A\n",
            "child class c\n"
          ]
        }
      ]
    },
    {
      "cell_type": "code",
      "source": [
        "class student:\n",
        "    def disp(self,roll,name):\n",
        "        print(roll,name)\n",
        "    def disp(self):\n",
        "        print(\"Welcome\")\n",
        "obj=student()\n",
        "obj.disp(23,\"Chinu\")\n",
        "obj.disp()"
      ],
      "metadata": {
        "colab": {
          "base_uri": "https://localhost:8080/",
          "height": 217
        },
        "id": "ykitEW8XpYx1",
        "outputId": "f3d178bd-e886-42b8-ab29-ba87ff091b37"
      },
      "execution_count": 19,
      "outputs": [
        {
          "output_type": "error",
          "ename": "TypeError",
          "evalue": "ignored",
          "traceback": [
            "\u001b[0;31m---------------------------------------------------------------------------\u001b[0m",
            "\u001b[0;31mTypeError\u001b[0m                                 Traceback (most recent call last)",
            "\u001b[0;32m<ipython-input-19-f799bfd739a0>\u001b[0m in \u001b[0;36m<cell line: 7>\u001b[0;34m()\u001b[0m\n\u001b[1;32m      5\u001b[0m         \u001b[0mprint\u001b[0m\u001b[0;34m(\u001b[0m\u001b[0;34m\"Welcome\"\u001b[0m\u001b[0;34m)\u001b[0m\u001b[0;34m\u001b[0m\u001b[0;34m\u001b[0m\u001b[0m\n\u001b[1;32m      6\u001b[0m \u001b[0mobj\u001b[0m\u001b[0;34m=\u001b[0m\u001b[0mstudent\u001b[0m\u001b[0;34m(\u001b[0m\u001b[0;34m)\u001b[0m\u001b[0;34m\u001b[0m\u001b[0;34m\u001b[0m\u001b[0m\n\u001b[0;32m----> 7\u001b[0;31m \u001b[0mobj\u001b[0m\u001b[0;34m.\u001b[0m\u001b[0mdisp\u001b[0m\u001b[0;34m(\u001b[0m\u001b[0;36m23\u001b[0m\u001b[0;34m,\u001b[0m\u001b[0;34m\"Chinu\"\u001b[0m\u001b[0;34m)\u001b[0m\u001b[0;34m\u001b[0m\u001b[0;34m\u001b[0m\u001b[0m\n\u001b[0m\u001b[1;32m      8\u001b[0m \u001b[0mobj\u001b[0m\u001b[0;34m.\u001b[0m\u001b[0mdisp\u001b[0m\u001b[0;34m(\u001b[0m\u001b[0;34m)\u001b[0m\u001b[0;34m\u001b[0m\u001b[0;34m\u001b[0m\u001b[0m\n",
            "\u001b[0;31mTypeError\u001b[0m: student.disp() takes 1 positional argument but 3 were given"
          ]
        }
      ]
    },
    {
      "cell_type": "code",
      "source": [
        "class parent:\n",
        "    def myMethod(self):\n",
        "        print(\"Calling parent method\")\n",
        "class child(parent):\n",
        "    def myMethod(self):\n",
        "        print(\"Calling child method\")\n",
        "c=child()\n",
        "c.myMethod()\n",
        "p=parent()\n",
        "p.myMethod()"
      ],
      "metadata": {
        "colab": {
          "base_uri": "https://localhost:8080/"
        },
        "id": "8Hm7qZjgpg1j",
        "outputId": "2bc3302b-5e54-4d91-e4c1-cc62cf015542"
      },
      "execution_count": 20,
      "outputs": [
        {
          "output_type": "stream",
          "name": "stdout",
          "text": [
            "Calling child method\n",
            "Calling parent method\n"
          ]
        }
      ]
    },
    {
      "cell_type": "code",
      "execution_count": null,
      "metadata": {
        "colab": {
          "base_uri": "https://localhost:8080/"
        },
        "id": "aYb6t0_Yvr9l",
        "outputId": "1b5100e1-22da-4182-e408-fb5fcf4a3e1e"
      },
      "outputs": [
        {
          "output_type": "stream",
          "name": "stdout",
          "text": [
            "[1 2 3 4 5]\n"
          ]
        }
      ],
      "source": [
        "import numpy as np\n",
        "arr=np.array([1,2,3,4,5])\n",
        "print(arr)"
      ]
    },
    {
      "cell_type": "code",
      "source": [
        "import numpy as np\n",
        "list1=[0,1,2,3,4]\n",
        "list1=list1+2"
      ],
      "metadata": {
        "colab": {
          "base_uri": "https://localhost:8080/",
          "height": 200
        },
        "id": "fQ1FHhrHv6vm",
        "outputId": "0676e3d7-a5d5-46cd-beae-f317397dfdfb"
      },
      "execution_count": null,
      "outputs": [
        {
          "output_type": "error",
          "ename": "TypeError",
          "evalue": "ignored",
          "traceback": [
            "\u001b[0;31m---------------------------------------------------------------------------\u001b[0m",
            "\u001b[0;31mTypeError\u001b[0m                                 Traceback (most recent call last)",
            "\u001b[0;32m<ipython-input-2-4262a609bc77>\u001b[0m in \u001b[0;36m<cell line: 3>\u001b[0;34m()\u001b[0m\n\u001b[1;32m      1\u001b[0m \u001b[0;32mimport\u001b[0m \u001b[0mnumpy\u001b[0m \u001b[0;32mas\u001b[0m \u001b[0mnp\u001b[0m\u001b[0;34m\u001b[0m\u001b[0;34m\u001b[0m\u001b[0m\n\u001b[1;32m      2\u001b[0m \u001b[0mlist1\u001b[0m\u001b[0;34m=\u001b[0m\u001b[0;34m[\u001b[0m\u001b[0;36m0\u001b[0m\u001b[0;34m,\u001b[0m\u001b[0;36m1\u001b[0m\u001b[0;34m,\u001b[0m\u001b[0;36m2\u001b[0m\u001b[0;34m,\u001b[0m\u001b[0;36m3\u001b[0m\u001b[0;34m,\u001b[0m\u001b[0;36m4\u001b[0m\u001b[0;34m]\u001b[0m\u001b[0;34m\u001b[0m\u001b[0;34m\u001b[0m\u001b[0m\n\u001b[0;32m----> 3\u001b[0;31m \u001b[0mlist1\u001b[0m\u001b[0;34m=\u001b[0m\u001b[0mlist1\u001b[0m\u001b[0;34m+\u001b[0m\u001b[0;36m2\u001b[0m\u001b[0;34m\u001b[0m\u001b[0;34m\u001b[0m\u001b[0m\n\u001b[0m",
            "\u001b[0;31mTypeError\u001b[0m: can only concatenate list (not \"int\") to list"
          ]
        }
      ]
    },
    {
      "cell_type": "code",
      "source": [
        "import numpy as np\n",
        "list1=[0,1,2,3,4]\n",
        "a=np.array(list1)\n",
        "print(a)\n",
        "a=a+2\n",
        "print(a)"
      ],
      "metadata": {
        "colab": {
          "base_uri": "https://localhost:8080/"
        },
        "id": "DcpHyuNrv8vO",
        "outputId": "fd9d3748-0c8f-410d-9cf1-6895e8371c31"
      },
      "execution_count": null,
      "outputs": [
        {
          "output_type": "stream",
          "name": "stdout",
          "text": [
            "[0 1 2 3 4]\n",
            "[2 3 4 5 6]\n"
          ]
        }
      ]
    },
    {
      "cell_type": "code",
      "source": [
        "import numpy as np\n",
        "arr=np.array([[1,2,3],[4,5,6]])\n",
        "print(arr)\n",
        "\n",
        "print(arr*5)\n",
        "\n",
        "print(arr+10)"
      ],
      "metadata": {
        "colab": {
          "base_uri": "https://localhost:8080/"
        },
        "id": "9fvFZ4DpwGNK",
        "outputId": "808932ad-95a4-4a59-e3ba-f371c301c8ad"
      },
      "execution_count": null,
      "outputs": [
        {
          "output_type": "stream",
          "name": "stdout",
          "text": [
            "[[1 2 3]\n",
            " [4 5 6]]\n",
            "[[ 5 10 15]\n",
            " [20 25 30]]\n",
            "[[11 12 13]\n",
            " [14 15 16]]\n"
          ]
        }
      ]
    },
    {
      "cell_type": "code",
      "source": [
        "import numpy as np\n",
        "list2=[[0,1,2],[3,4,5],[6,7,8]]\n",
        "a3=np.array(list2,dtype='str')\n",
        "print(a3)"
      ],
      "metadata": {
        "colab": {
          "base_uri": "https://localhost:8080/"
        },
        "id": "02vz7G8swP7K",
        "outputId": "ca67f882-d138-45cf-f4a6-70ec83254b80"
      },
      "execution_count": null,
      "outputs": [
        {
          "output_type": "stream",
          "name": "stdout",
          "text": [
            "[['0' '1' '2']\n",
            " ['3' '4' '5']\n",
            " ['6' '7' '8']]\n"
          ]
        }
      ]
    },
    {
      "cell_type": "code",
      "source": [
        "import numpy as np\n",
        "list2=[[0,1,2],[3,4,5],[6,7,8]]\n",
        "a3=np.array(list2,dtype='float')\n",
        "print(a3)\n",
        "a3_s=a3.astype('int').astype('str')\n",
        "print(a3_s)"
      ],
      "metadata": {
        "colab": {
          "base_uri": "https://localhost:8080/"
        },
        "id": "HI_sXIJ_wx07",
        "outputId": "7f0874c6-04cf-4fa3-9fee-fece6629e254"
      },
      "execution_count": null,
      "outputs": [
        {
          "output_type": "stream",
          "name": "stdout",
          "text": [
            "[[0. 1. 2.]\n",
            " [3. 4. 5.]\n",
            " [6. 7. 8.]]\n",
            "[['0' '1' '2']\n",
            " ['3' '4' '5']\n",
            " ['6' '7' '8']]\n"
          ]
        }
      ]
    },
    {
      "cell_type": "code",
      "source": [
        "arr_obj=np.array([1,'a'],dtype='object')\n",
        "print(arr_obj)"
      ],
      "metadata": {
        "colab": {
          "base_uri": "https://localhost:8080/"
        },
        "id": "zJJMACwhxHY0",
        "outputId": "29ebfed6-7e3c-4577-8967-3c92da2a3cc9"
      },
      "execution_count": null,
      "outputs": [
        {
          "output_type": "stream",
          "name": "stdout",
          "text": [
            "[1 'a']\n"
          ]
        }
      ]
    },
    {
      "cell_type": "code",
      "source": [
        "import numpy as np\n",
        "list=[[0,1,2],[3,4,5],[6,7,8]]\n",
        "arr=np.array(list,dtype='float')\n",
        "print(arr)"
      ],
      "metadata": {
        "colab": {
          "base_uri": "https://localhost:8080/"
        },
        "id": "PB0gRXhIxrVO",
        "outputId": "65d18740-e82c-4814-c84f-64430720975b"
      },
      "execution_count": null,
      "outputs": [
        {
          "output_type": "stream",
          "name": "stdout",
          "text": [
            "[[0. 1. 2.]\n",
            " [3. 4. 5.]\n",
            " [6. 7. 8.]]\n"
          ]
        }
      ]
    },
    {
      "cell_type": "code",
      "source": [
        "import numpy as np\n",
        "list=[[0,1,2],[3,4,5],[6,7,8]]\n",
        "a3=np.array(list,dtype='float')\n",
        "print('shape:',a3.shape)\n",
        "print('Datatype:',a3.dtype)\n",
        "print('Size:',a3.size)\n",
        "print('Num dimension:',a3.ndim)"
      ],
      "metadata": {
        "colab": {
          "base_uri": "https://localhost:8080/"
        },
        "id": "ooWTpExdxzGY",
        "outputId": "d8e7dd80-1f14-4746-f53c-8ffd3b2f51cf"
      },
      "execution_count": null,
      "outputs": [
        {
          "output_type": "stream",
          "name": "stdout",
          "text": [
            "shape: (3, 3)\n",
            "Datatype: float64\n",
            "Size: 9\n",
            "Num dimension: 2\n"
          ]
        }
      ]
    },
    {
      "cell_type": "code",
      "source": [
        "import matplotlib.pyplot as plt\n",
        "x=[5,7,8,7,2,17,2,9,4,11,12,9,6]\n",
        "y=[99,86,87,88,111,86,103,87,94,78,77,85,86]\n",
        "plt.scatter(x,y)\n",
        "plt.show()"
      ],
      "metadata": {
        "colab": {
          "base_uri": "https://localhost:8080/",
          "height": 430
        },
        "id": "N9KnH8ZP4TAR",
        "outputId": "9188b4fc-2628-45a4-901e-647c520a16ba"
      },
      "execution_count": null,
      "outputs": [
        {
          "output_type": "display_data",
          "data": {
            "text/plain": [
              "<Figure size 640x480 with 1 Axes>"
            ],
            "image/png": "[encoded data removed]"
          },
          "metadata": {}
        }
      ]
    },
    {
      "cell_type": "code",
      "source": [
        "from matplotlib import pyplot as plt\n",
        "x=[1,2,3]\n",
        "y=[10,11,12]\n",
        "plt.plot(x,y)\n",
        "plt.title('Line graph')\n",
        "plt.ylabel('Y axis')\n",
        "plt.xlabel('X axis')\n",
        "plt.show()"
      ],
      "metadata": {
        "colab": {
          "base_uri": "https://localhost:8080/",
          "height": 472
        },
        "id": "ctx_DiZP7Vgu",
        "outputId": "9adc5332-0ede-47cf-baec-34d9ec17db6a"
      },
      "execution_count": null,
      "outputs": [
        {
          "output_type": "display_data",
          "data": {
            "text/plain": [
              "<Figure size 640x480 with 1 Axes>"
            ],
            "image/png": "[encoded data removed]"
          },
          "metadata": {}
        }
      ]
    },
    {
      "cell_type": "code",
      "source": [
        "avg_marks=[81,92,55,79]\n",
        "physics=[68,77,62,74]\n",
        "\n",
        "plt.bar([0.25,1.25,2.25,3.25],avg_marks,label=\"Average\",width=.5)\n",
        "plt.bar([0.75,1.75,2.75,3.75],physics,label=\"Physics\",color='r',width=.5)\n",
        "\n",
        "plt.legend()\n",
        "plt.xlabel('Range')\n",
        "plt.ylabel('marks')\n",
        "plt.title('Comparision')\n",
        "plt.show()"
      ],
      "metadata": {
        "colab": {
          "base_uri": "https://localhost:8080/",
          "height": 472
        },
        "id": "VGBsrEcT9kDF",
        "outputId": "785d67c8-aa01-4a04-cd73-8e8f2b880795"
      },
      "execution_count": null,
      "outputs": [
        {
          "output_type": "display_data",
          "data": {
            "text/plain": [
              "<Figure size 640x480 with 1 Axes>"
            ],
            "image/png": "[encoded data removed]"
          },
          "metadata": {}
        }
      ]
    },
    {
      "cell_type": "code",
      "source": [],
      "metadata": {
        "id": "0WQguUzR-FZs"
      },
      "execution_count": null,
      "outputs": []
    }
  ]
}